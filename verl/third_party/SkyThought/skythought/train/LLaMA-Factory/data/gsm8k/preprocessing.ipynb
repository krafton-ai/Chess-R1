{
 "cells": [
  {
   "cell_type": "code",
   "execution_count": 1,
   "metadata": {},
   "outputs": [],
   "source": [
    "# How many different tasks there are and what are their counts?\n",
    "import json\n",
    "from collections import Counter\n",
    "from tqdm import tqdm\n",
    "\n",
    "results_json_dir = 'results.json'\n",
    "\n",
    "with open(results_json_dir, 'rb') as f:\n",
    "    results = json.load(f)"
   ]
  },
  {
   "cell_type": "code",
   "execution_count": 15,
   "metadata": {},
   "outputs": [],
   "source": [
    "filtered_responses = []\n",
    "nonfiltered_responses = []\n",
    "\n",
    "for key in results.keys():\n",
    "    user_instruction = results[key]['prompt'].split('.')[0]\n",
    "    user_input = results[key]['prompt'].split('.')[1][1:]\n",
    "    response = results[key]['responses'][0]['content']\n",
    "\n",
    "    alpaca_data = {\n",
    "        'instruction': user_instruction,\n",
    "        'input': user_input,\n",
    "        'output': response\n",
    "    }\n",
    "\n",
    "    nonfiltered_responses.append(alpaca_data)\n",
    "\n",
    "    if results[key]['responses'][0]['correctness']:\n",
    "        filtered_responses.append(alpaca_data)"
   ]
  },
  {
   "cell_type": "code",
   "execution_count": 19,
   "metadata": {},
   "outputs": [],
   "source": [
    "# Save nonfiltered_responses to a JSON file\n",
    "with open('gsm8k_nonfiltered_responses.json', 'w') as nf_file:\n",
    "    json.dump(nonfiltered_responses, nf_file, indent=4)\n",
    "\n",
    "# Save filtered_responses to a JSON file\n",
    "with open('gsm8k_filtered_responses.json', 'w') as f_file:\n",
    "    json.dump(filtered_responses, f_file, indent=4)"
   ]
  },
  {
   "cell_type": "code",
   "execution_count": null,
   "metadata": {},
   "outputs": [],
   "source": []
  }
 ],
 "metadata": {
  "kernelspec": {
   "display_name": "chess_llm",
   "language": "python",
   "name": "python3"
  },
  "language_info": {
   "codemirror_mode": {
    "name": "ipython",
    "version": 3
   },
   "file_extension": ".py",
   "mimetype": "text/x-python",
   "name": "python",
   "nbconvert_exporter": "python",
   "pygments_lexer": "ipython3",
   "version": "3.10.12"
  }
 },
 "nbformat": 4,
 "nbformat_minor": 2
}
