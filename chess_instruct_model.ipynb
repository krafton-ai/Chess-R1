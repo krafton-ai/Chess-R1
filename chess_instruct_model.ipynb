{
  "cells": [
    {
      "cell_type": "markdown",
      "metadata": {},
      "source": [
        "## Instruct-models"
      ]
    },
    {
      "cell_type": "code",
      "execution_count": 6,
      "metadata": {},
      "outputs": [
        {
          "data": {
            "application/vnd.jupyter.widget-view+json": {
              "model_id": "8b483f59eb4249f78744894de3dac5d6",
              "version_major": 2,
              "version_minor": 0
            },
            "text/plain": [
              "Loading checkpoint shards:   0%|          | 0/4 [00:00<?, ?it/s]"
            ]
          },
          "metadata": {},
          "output_type": "display_data"
        },
        {
          "name": "stdout",
          "output_type": "stream",
          "text": [
            "\n"
          ]
        }
      ],
      "source": [
        "import torch\n",
        "from transformers import AutoTokenizer, AutoModelForCausalLM\n",
        "# Model setup...\n"
      ]
    },
    {
      "cell_type": "markdown",
      "metadata": {},
      "source": [
        "## ChessGPT"
      ]
    },
    {
      "cell_type": "code",
      "execution_count": 2,
      "id": "bcb9cf00",
      "metadata": {},
      "outputs": [
        {
          "data": {
            "application/vnd.jupyter.widget-view+json": {
              "model_id": "f238dbd400f04c0a85c03b8c50bf4604",
              "version_major": 2,
              "version_minor": 0
            },
            "text/plain": [
              "Loading checkpoint shards:   0%|          | 0/2 [00:00<?, ?it/s]"
            ]
          },
          "metadata": {},
          "output_type": "display_data"
        },
        {
          "name": "stderr",
          "output_type": "stream",
          "text": [
            "Setting `pad_token_id` to `eos_token_id`:0 for open-end generation.\n"
          ]
        },
        {
          "name": "stdout",
          "output_type": "stream",
          "text": [
            "A friendly, helpful chat between some humans.<|endoftext|>Human 0: 1.e4 c5, what is the name of this opening?<|endoftext|>Human 1: The opening represented by the moves 1.e4 c5 is called the Sicilian Defense.<|endoftext|>\n"
          ]
        }
      ],
      "source": [
        "import torch\n",
        "import transformers\n",
        "from transformers import AutoTokenizer, AutoModelForCausalLM\n",
        "\n",
        "MIN_TRANSFORMERS_VERSION = '4.25.1'\n",
        "\n",
        "# check transformers version\n",
        "assert transformers.__version__ >= MIN_TRANSFORMERS_VERSION, f'Please upgrade transformers to version {MIN_TRANSFORMERS_VERSION} or higher.'\n",
        "\n",
        "# init\n",
        "tokenizer = AutoTokenizer.from_pretrained(\"Waterhorse/chessgpt-chat-v1\")\n",
        "model = AutoModelForCausalLM.from_pretrained(\"Waterhorse/chessgpt-chat-v1\", torch_dtype=torch.float16)\n",
        "model = model.to('cuda:0')\n"
      ]
    },
    {
      "cell_type": "code",
      "execution_count": 12,
      "id": "33500f1f",
      "metadata": {},
      "outputs": [
        {
          "name": "stderr",
          "output_type": "stream",
          "text": [
            "Setting `pad_token_id` to `eos_token_id`:0 for open-end generation.\n"
          ]
        },
        {
          "name": "stdout",
          "output_type": "stream",
          "text": [
            "A friendly, helpful chat between some humans.<|endoftext|>Human 0: What is the best move to perform for the given FEN? 8/ppk2r2/2p1p2p/4ppb1/8/2P4P/PP2RPP1/3R2K1 b - - 5 29 <|endoftext|>Human 1: In this position, the best move for White is 29...Rd7, which centralizes the rook and pressures the d-file, putting pressure on White's position.<|endoftext|>\n"
          ]
        }
      ],
      "source": [
        "\n",
        "# infer\n",
        "# Conversation between two\n",
        "prompt = \"A friendly, helpful chat between some humans.<|endoftext|>Human 0: What is the best move to perform for the given FEN? 8/ppk2r2/2p1p2p/4ppb1/8/2P4P/PP2RPP1/3R2K1 b - - 5 29 <|endoftext|>Human 1:\"\n",
        "# Conversation between more than two\n",
        "#prompt = \"A friendly, helpful chat between some humans.<|endoftext|>Human 0: 1.e4 c5, what is the name of this opening?<|endoftext|>Human 1: Sicilian defense.<|endoftext|>Human 2:\"\n",
        "\n",
        "inputs = tokenizer(prompt, return_tensors='pt').to(model.device)\n",
        "input_length = inputs.input_ids.shape[1]\n",
        "outputs = model.generate(\n",
        "    **inputs, max_new_tokens=128, do_sample=True, temperature=0.7, top_p=0.7, top_k=50, return_dict_in_generate=True,\n",
        ")\n",
        "token = outputs.sequences[0]\n",
        "output_str = tokenizer.decode(token)\n",
        "print(output_str)"
      ]
    },
    {
      "cell_type": "code",
      "execution_count": null,
      "id": "d162059d",
      "metadata": {},
      "outputs": [],
      "source": []
    }
  ],
  "metadata": {
    "kernelspec": {
      "display_name": "Python 3",
      "language": "python",
      "name": "python3"
    },
    "language_info": {
      "codemirror_mode": {
        "name": "ipython",
        "version": 3
      },
      "file_extension": ".py",
      "mimetype": "text/x-python",
      "name": "python",
      "nbconvert_exporter": "python",
      "pygments_lexer": "ipython3",
      "version": "3.10.12"
    }
  },
  "nbformat": 4,
  "nbformat_minor": 5
}
