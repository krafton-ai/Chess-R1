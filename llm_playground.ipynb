{
 "cells": [
  {
   "cell_type": "code",
   "execution_count": 1,
   "metadata": {},
   "outputs": [
    {
     "name": "stderr",
     "output_type": "stream",
     "text": [
      "Sliding Window Attention is enabled but not implemented for `sdpa`; unexpected results may be encountered.\n"
     ]
    },
    {
     "data": {
      "application/vnd.jupyter.widget-view+json": {
       "model_id": "e27396d8235d41059d96eaf71c40df07",
       "version_major": 2,
       "version_minor": 0
      },
      "text/plain": [
       "Loading checkpoint shards:   0%|          | 0/4 [00:00<?, ?it/s]"
      ]
     },
     "metadata": {},
     "output_type": "display_data"
    },
    {
     "name": "stdout",
     "output_type": "stream",
     "text": [
      "\n"
     ]
    }
   ],
   "source": [
    "import torch\n",
    "from transformers import AutoTokenizer, AutoModelForCausalLM\n",
    "\n",
    "# Set up model parameters\n",
    "\n",
    "# model_name = \"meta-llama/Llama-3.2-3B-Instruct\"\n",
    "# max_tokens = 2048     # Maximum tokens to generate in response\n",
    "# temperature = 0.6    # Sampling temperature\n",
    "# top_p = 0.9\n",
    "# top_k = 50\n",
    "# repetition_penalty = 1.0\n",
    "\n",
    "model_name = \"Qwen/Qwen2.5-7B-Instruct\"  \n",
    "max_tokens = 2048     # Maximum tokens to generate in response\n",
    "temperature = 1.0    # Sampling temperature\n",
    "\n",
    "\n",
    "\n",
    "# Load the tokenizer and model from Hugging Face\n",
    "tokenizer = AutoTokenizer.from_pretrained(model_name)\n",
    "model = AutoModelForCausalLM.from_pretrained(model_name)\n",
    "\n",
    "# Move model to GPU if available\n",
    "device = torch.device(\"cuda\" if torch.cuda.is_available() else \"cpu\")\n",
    "model.to(device)\n",
    "print()"
   ]
  },
  {
   "cell_type": "code",
   "execution_count": 19,
   "metadata": {},
   "outputs": [
    {
     "data": {
      "text/plain": [
       "\"<|im_start|>system\\nYou are a professional chess-playing assistant.\\n\\nYou are given:\\n- A history of previous moves (in SAN),\\n- The current FEN string,\\n- An ASCII board representation,\\n- A list of legal moves.\\n\\nYour task is to analyze the position and select the best move.\\n- Use <think>...</think> tags to explain your reasoning. Including:\\n  - A strategic evaluation of the position.\\n  - A comparison of key candidate moves.\\n  - For each candidate move, simulate multiple steps into the future:\\n     - Predict the opponent's likely responses.\\n     - Explore how the position might evolve over the next few moves.\\n     - Assess the resulting positions for advantages or risks.\\n- Based on reasoning, use <answer>...</answer> to give the best move in SAN (e.g., Nf3, Rxf2). Only include the move, without extra text or symbols.\\nWait for the user to provide the move history, FEN, ASCII board, and legal moves before responding.\\n\\n<|im_end|>\\n<|im_start|>user\\nPrevious moves: 1. e4 c6 2. d4 d5 3. Nc3 dxe4 4. Nxe4 Nf6 5. Nxf6+ exf6 6. Nf3 Bd6 7. Bd3 O-O 8. O-O Bg4 9. c3 Nd7 10. h3 Bh5 11. Re1 Qc7 12. Be2 Rfe8 13. Nd2 Bxe2 14. Rxe2 f5 15. Nc4 Nf6 16. Bg5 Bh2+ 17. Kh1 Ne4 18. Bd2 Nxd2 19. Qxd2 Bf4 20. Rae1 Kf8 21. Qd3 g6 22. g3 Bg5 23. h4 Bf6 24. Kg2 Rxe2 25. Rxe2 Rd8 26. Qe3 h5 27. Ne5 Kg7 28. Nd3 b6 29. Qf4 Qd7 30. Ne5 Qd5+ 31. Qf3 Bxe5 32. Qxd5 Rxd5 33. Rxe5 Rxe5 34. dxe5 f6 35. f4 fxe5\\nCurrent FEN string: 8/p5k1/1pp3p1/4pp1p/5P1P/2P3P1/PP4K1/8 w - - 0 36\\nLegal moves: Kh3 Kf3 Kh2 Kf2 Kh1 Kg1 Kf1 fxe5 g4 c4 b3 a3 b4 a4\\n\\n<|im_end|>\\n<|im_start|>assistant\\nLet me think and select the best move step by step.\\n\""
      ]
     },
     "execution_count": 19,
     "metadata": {},
     "output_type": "execute_result"
    }
   ],
   "source": [
    "\n",
    "#### system prompts\n",
    "\n",
    "system_prompt = \"\"\"\\\n",
    "You are a professional chess-playing assistant.\n",
    "\n",
    "You are given:\n",
    "- A history of previous moves (in SAN),\n",
    "- The current FEN string,\n",
    "- An ASCII board representation,\n",
    "- A list of legal moves.\n",
    "\n",
    "Your task is to analyze the position and select the best move.\n",
    "- Use <think>...</think> tags to explain your reasoning. Including:\n",
    "  - A strategic evaluation of the position.\n",
    "  - A comparison of key candidate moves.\n",
    "  - For each candidate move, simulate multiple steps into the future:\n",
    "     - Predict the opponent's likely responses.\n",
    "     - Explore how the position might evolve over the next few moves.\n",
    "     - Assess the resulting positions for advantages or risks.\n",
    "- Based on reasoning, use <answer>...</answer> to give the best move in SAN (e.g., Nf3, Rxf2). Only include the move, without extra text or symbols.\n",
    "Wait for the user to provide the move history, FEN, ASCII board, and legal moves before responding.\\n\n",
    "\"\"\"\n",
    "\n",
    "#### user prompts\n",
    "\n",
    "user_prompt = \"\"\"\\\n",
    "Previous moves: 1. e4 c6 2. d4 d5 3. Nc3 dxe4 4. Nxe4 Nf6 5. Nxf6+ exf6 6. Nf3 Bd6 7. Bd3 O-O 8. O-O Bg4 9. c3 Nd7 10. h3 Bh5 11. Re1 Qc7 12. Be2 Rfe8 13. Nd2 Bxe2 14. Rxe2 f5 15. Nc4 Nf6 16. Bg5 Bh2+ 17. Kh1 Ne4 18. Bd2 Nxd2 19. Qxd2 Bf4 20. Rae1 Kf8 21. Qd3 g6 22. g3 Bg5 23. h4 Bf6 24. Kg2 Rxe2 25. Rxe2 Rd8 26. Qe3 h5 27. Ne5 Kg7 28. Nd3 b6 29. Qf4 Qd7 30. Ne5 Qd5+ 31. Qf3 Bxe5 32. Qxd5 Rxd5 33. Rxe5 Rxe5 34. dxe5 f6 35. f4 fxe5\\nCurrent FEN string: 8/p5k1/1pp3p1/4pp1p/5P1P/2P3P1/PP4K1/8 w - - 0 36\\nLegal moves: Kh3 Kf3 Kh2 Kf2 Kh1 Kg1 Kf1 fxe5 g4 c4 b3 a3 b4 a4\\n\n",
    "\"\"\"\n",
    "\n",
    "assistant_prompt = \"\"\"\\\n",
    "Let me think and select the best move step by step.\n",
    "\"\"\"\n",
    "\n",
    "# Define a sample conversation (list of messages)\n",
    "conversation = [\n",
    "    {\"role\": \"system\", \"content\": system_prompt},\n",
    "    {\"role\": \"user\", \"content\": user_prompt},\n",
    "]\n",
    "\n",
    "# Tokenize the prompt\n",
    "inputs = tokenizer.apply_chat_template(\n",
    "            conversation, \n",
    "            tokenize=True, \n",
    "            add_generation_prompt=True,\n",
    "            return_tensors=\"pt\").to(device)\n",
    "\n",
    "# concat assistant related prompts\n",
    "inputs = torch.cat([inputs, tokenizer(assistant_prompt, return_tensors=\"pt\").to(device)['input_ids']], dim=-1)\n",
    "tokenizer.decode(inputs[0])\n"
   ]
  },
  {
   "cell_type": "code",
   "execution_count": 20,
   "metadata": {},
   "outputs": [
    {
     "name": "stdout",
     "output_type": "stream",
     "text": [
      "system\n",
      "You are a professional chess-playing assistant.\n",
      "\n",
      "You are given:\n",
      "- A history of previous moves (in SAN),\n",
      "- The current FEN string,\n",
      "- An ASCII board representation,\n",
      "- A list of legal moves.\n",
      "\n",
      "Your task is to analyze the position and select the best move.\n",
      "- Use <think>...</think> tags to explain your reasoning. Including:\n",
      "  - A strategic evaluation of the position.\n",
      "  - A comparison of key candidate moves.\n",
      "  - For each candidate move, simulate multiple steps into the future:\n",
      "     - Predict the opponent's likely responses.\n",
      "     - Explore how the position might evolve over the next few moves.\n",
      "     - Assess the resulting positions for advantages or risks.\n",
      "- Based on reasoning, use <answer>...</answer> to give the best move in SAN (e.g., Nf3, Rxf2). Only include the move, without extra text or symbols.\n",
      "Wait for the user to provide the move history, FEN, ASCII board, and legal moves before responding.\n",
      "\n",
      "\n",
      "user\n",
      "Previous moves: 1. e4 c6 2. d4 d5 3. Nc3 dxe4 4. Nxe4 Nf6 5. Nxf6+ exf6 6. Nf3 Bd6 7. Bd3 O-O 8. O-O Bg4 9. c3 Nd7 10. h3 Bh5 11. Re1 Qc7 12. Be2 Rfe8 13. Nd2 Bxe2 14. Rxe2 f5 15. Nc4 Nf6 16. Bg5 Bh2+ 17. Kh1 Ne4 18. Bd2 Nxd2 19. Qxd2 Bf4 20. Rae1 Kf8 21. Qd3 g6 22. g3 Bg5 23. h4 Bf6 24. Kg2 Rxe2 25. Rxe2 Rd8 26. Qe3 h5 27. Ne5 Kg7 28. Nd3 b6 29. Qf4 Qd7 30. Ne5 Qd5+ 31. Qf3 Bxe5 32. Qxd5 Rxd5 33. Rxe5 Rxe5 34. dxe5 f6 35. f4 fxe5\n",
      "Current FEN string: 8/p5k1/1pp3p1/4pp1p/5P1P/2P3P1/PP4K1/8 w - - 0 36\n",
      "Legal moves: Kh3 Kf3 Kh2 Kf2 Kh1 Kg1 Kf1 fxe5 g4 c4 b3 a3 b4 a4\n",
      "\n",
      "\n",
      "assistant\n",
      "Let me think and select the best move step by step.\n",
      "<think>\n",
      "The position is currently in a middle-game phase with White having a slight advantage due to the active queen and the ability to develop the knight to f4. The pawn structure favors Black with the open e-file controlled by the rook. Let's evaluate the key moves:\n",
      "\n",
      "1. **Kh3**: This move aims to protect the king while preparing to develop the knight to f4.\n",
      "2. **Kf3**: Similar to Kh3, this move also protects the king but places it closer to the action.\n",
      "3. **Kh2**: Again, a defensive move but leaves the king more central.\n",
      "4. **Kf2**: Also a defensive move, placing the king closer to the center.\n",
      "5. **Kh1**: Another defensive move that prepares for the knight development.\n",
      "6. **Kg1**: Similar to Kh1, this keeps the king safe.\n",
      "7. **Kf1**: A move to the edge of the board, which could be risky if Black manages to attack the rook.\n",
      "8. **fxe5**: A potential attack on the pawn on e5, but it could be premature as the rook on e2 is well-placed to counterattack.\n",
      "9. **g4**: An attempt to open lines for the knight, but it's not clear what it achieves in this position.\n",
      "10. **c4**: Develops the bishop, but it's passive compared to other options.\n",
      "11. **b3**: Develops the bishop, but again, it’s not the most active move.\n",
      "12. **a3**: Develops the knight, but it’s a passive move as well.\n",
      "13. **b4**: Develops the bishop, but it’s not the most aggressive move.\n",
      "14. **a4**: Develops the knight, but it’s a passive move.\n",
      "\n",
      "Now let's simulate the outcomes of some key moves:\n",
      "\n",
      "- **Kh3**: \n",
      "  - 36. ... Kf3\n",
      "  - 37. Nf4 (protecting the knight)\n",
      "  - 37. ... Bf6\n",
      "  - 38. h5 (open the h-file for the rook)\n",
      "  - 38. ... Qd4\n",
      "  - 39. h6 (king safety)\n",
      "  - 39. ... Bxh5\n",
      "  - 40. Qg3 (preparing to win the bishop)\n",
      "\n",
      "This sequence seems to give White a strong initiative.\n",
      "\n",
      "- **fxe5**:\n",
      "  - 36. ... g4\n",
      "  - 37. hxg4\n",
      "  - 37. ... Bxg4\n",
      "  - 38. Qxg4\n",
      "  - 38. ... Kf3\n",
      "  - 39. Qh3 (threatening the rook)\n",
      "  - 39. ... Ke4\n",
      "  - 40. Rf2 (preparing to attack the pawn on f6)\n",
      "\n",
      "This move also gives White an advantage.\n",
      "\n",
      "Given these simulations, the move **Kh3** seems to offer the best combination of safety and initiative.\n",
      "</think>\n",
      "<answer>Kh3</answer>\n"
     ]
    }
   ],
   "source": [
    "# Generate the response\n",
    "outputs = model.generate(\n",
    "    inputs,\n",
    "    max_new_tokens=max_tokens,\n",
    "    temperature=temperature,\n",
    "    do_sample=True,\n",
    ")\n",
    "\n",
    "# Decode the generated tokens to text\n",
    "full_output = tokenizer.decode(outputs[0], skip_special_tokens=True)\n",
    "\n",
    "print(full_output)\n"
   ]
  },
  {
   "cell_type": "code",
   "execution_count": null,
   "metadata": {},
   "outputs": [],
   "source": []
  }
 ],
 "metadata": {
  "kernelspec": {
   "display_name": "Python 3",
   "language": "python",
   "name": "python3"
  },
  "language_info": {
   "codemirror_mode": {
    "name": "ipython",
    "version": 3
   },
   "file_extension": ".py",
   "mimetype": "text/x-python",
   "name": "python",
   "nbconvert_exporter": "python",
   "pygments_lexer": "ipython3",
   "version": "3.10.12"
  }
 },
 "nbformat": 4,
 "nbformat_minor": 2
}
